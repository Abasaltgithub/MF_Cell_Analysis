{
 "cells": [
  {
   "cell_type": "code",
   "execution_count": 1,
   "id": "3071e745",
   "metadata": {},
   "outputs": [
    {
     "name": "stdout",
     "output_type": "stream",
     "text": [
      "/Users/abasaltbahrami/Library/CloudStorage/Box-Box/VisualStudio/MF_Cell_Analysis\n"
     ]
    }
   ],
   "source": [
    "import numpy as np\n",
    "import pandas as pd\n",
    "import matplotlib.pyplot as plt\n",
    "import seaborn as sns\n",
    "from scipy import stats\n",
    "import os\n",
    "import openpyxl\n",
    "import xlsxwriter\n",
    "import statsmodels.api as sm\n",
    "\n",
    "\n",
    "current_path = os.getcwd()\n",
    "print(current_path)"
   ]
  },
  {
   "cell_type": "code",
   "execution_count": 2,
   "id": "8c6a1892",
   "metadata": {},
   "outputs": [],
   "source": [
    "# importing data and only keeping the last row of data\n",
    "\n",
    "xls = pd.ExcelFile(r'I2A_30min_60min_AII_AR_HRP_1.xls')\n",
    "xls.sheet_names\n",
    "\n",
    "cols = ['SMF', 'CTR', 'neg. SMF', 'neg. CTR']\n",
    "\n",
    "df30 = pd.read_excel(xls, sheet_name=\"30min\", usecols=cols)\n",
    "#df30 = df30.iloc[270:278, :]\n",
    "\n",
    "df60 = pd.read_excel(xls, sheet_name=\"60min\", usecols=cols)\n",
    "#df60 = df60.iloc[270:278, :]"
   ]
  },
  {
   "cell_type": "code",
   "execution_count": 3,
   "id": "d6b46713",
   "metadata": {},
   "outputs": [
    {
     "name": "stderr",
     "output_type": "stream",
     "text": [
      "/Users/abasaltbahrami/opt/anaconda3/lib/python3.9/site-packages/pandas/plotting/_matplotlib/core.py:1114: UserWarning: No data for colormapping provided via 'c'. Parameters 'cmap' will be ignored\n",
      "  scatter = ax.scatter(\n"
     ]
    },
    {
     "data": {
      "text/plain": [
       "<matplotlib.legend.Legend at 0x7f94423df8e0>"
      ]
     },
     "execution_count": 3,
     "metadata": {},
     "output_type": "execute_result"
    },
    {
     "data": {
      "image/png": "[encoded data removed]",
      "text/plain": [
       "<Figure size 864x360 with 1 Axes>"
      ]
     },
     "metadata": {
      "needs_background": "light"
     },
     "output_type": "display_data"
    }
   ],
   "source": [
    "# plot SMF and CTR from the last row of data\n",
    "\n",
    "#a, b = np.polyfit(df30['SMF'], df30['CTR'], 1)\n",
    "#c, d = np.polyfit(df60['SMF'], df60['CTR'], 1)\n",
    "\n",
    "fig, axes = plt.subplots(nrows=1, ncols=1, figsize=(12,5))\n",
    "\n",
    "df30.plot.scatter(ax=axes, x='SMF', y='CTR', c='b')\n",
    "#axes.plot(df30['SMF'], a*df30['SMF']+b, color='b')\n",
    "df60.plot.scatter(ax=axes, x='SMF', y='CTR', c='r')\n",
    "#axes.plot(df60['SMF'], c*df60['SMF']+d, color='r')\n",
    "\n",
    "axes.set_title('Production of H2O2 after 30, 60 min (w, w/o catalase and AII)')\n",
    "axes.legend(['', '', '30 min', '60 min'])\n",
    "\n",
    "#print(\"30 min: CTR = \", a, \"x SMF + \", b)\n",
    "#print(\"60 min: CTR = \", c, \"x SMF + \", d)\n",
    "\n",
    "#axes = sns.regplot(x=df30['SMF'], y=df30['CTR'], color=\"g\", ci=None)\n",
    "#axes = sns.regplot(x=df60['SMF'], y=df60['CTR'], color=\"b\", ci=None)"
   ]
  },
  {
   "cell_type": "code",
   "execution_count": 4,
   "id": "f346c0c3",
   "metadata": {
    "scrolled": true
   },
   "outputs": [
    {
     "name": "stderr",
     "output_type": "stream",
     "text": [
      "/var/folders/yx/9g_x7kj92yxfpt9tl81fpmn80000gn/T/ipykernel_3113/236392501.py:9: FutureWarning: The frame.append method is deprecated and will be removed from pandas in a future version. Use pandas.concat instead.\n",
      "  df = df.append(pd.DataFrame([list], columns=cols), ignore_index=True)\n",
      "/var/folders/yx/9g_x7kj92yxfpt9tl81fpmn80000gn/T/ipykernel_3113/236392501.py:9: FutureWarning: The frame.append method is deprecated and will be removed from pandas in a future version. Use pandas.concat instead.\n",
      "  df = df.append(pd.DataFrame([list], columns=cols), ignore_index=True)\n",
      "/var/folders/yx/9g_x7kj92yxfpt9tl81fpmn80000gn/T/ipykernel_3113/236392501.py:9: FutureWarning: The frame.append method is deprecated and will be removed from pandas in a future version. Use pandas.concat instead.\n",
      "  df = df.append(pd.DataFrame([list], columns=cols), ignore_index=True)\n",
      "/var/folders/yx/9g_x7kj92yxfpt9tl81fpmn80000gn/T/ipykernel_3113/236392501.py:9: FutureWarning: The frame.append method is deprecated and will be removed from pandas in a future version. Use pandas.concat instead.\n",
      "  df = df.append(pd.DataFrame([list], columns=cols), ignore_index=True)\n"
     ]
    },
    {
     "ename": "AttributeError",
     "evalue": "'float' object has no attribute 'shape'",
     "output_type": "error",
     "traceback": [
      "\u001b[0;31m---------------------------------------------------------------------------\u001b[0m",
      "\u001b[0;31mAttributeError\u001b[0m                            Traceback (most recent call last)",
      "\u001b[1;32m/Users/abasaltbahrami/Library/CloudStorage/Box-Box/VisualStudio/MF_Cell_Analysis/H2O2_30min_60min.ipynb Cell 4\u001b[0m in \u001b[0;36m<cell line: 15>\u001b[0;34m()\u001b[0m\n\u001b[1;32m     <a href='vscode-notebook-cell:/Users/abasaltbahrami/Library/CloudStorage/Box-Box/VisualStudio/MF_Cell_Analysis/H2O2_30min_60min.ipynb#W3sZmlsZQ%3D%3D?line=9'>10</a>\u001b[0m     i\u001b[39m=\u001b[39mi\u001b[39m+\u001b[39m\u001b[39m2\u001b[39m\n\u001b[1;32m     <a href='vscode-notebook-cell:/Users/abasaltbahrami/Library/CloudStorage/Box-Box/VisualStudio/MF_Cell_Analysis/H2O2_30min_60min.ipynb#W3sZmlsZQ%3D%3D?line=11'>12</a>\u001b[0m \u001b[39m#print(\"30 min: CTR = \", a, \"x SMF + \", b)\u001b[39;00m\n\u001b[1;32m     <a href='vscode-notebook-cell:/Users/abasaltbahrami/Library/CloudStorage/Box-Box/VisualStudio/MF_Cell_Analysis/H2O2_30min_60min.ipynb#W3sZmlsZQ%3D%3D?line=12'>13</a>\u001b[0m \u001b[39m#print(\"30 min: neg. CTR = \", c, \"x SMF + \", d)\u001b[39;00m\n\u001b[0;32m---> <a href='vscode-notebook-cell:/Users/abasaltbahrami/Library/CloudStorage/Box-Box/VisualStudio/MF_Cell_Analysis/H2O2_30min_60min.ipynb#W3sZmlsZQ%3D%3D?line=14'>15</a>\u001b[0m slope1, intercept1, r_value1, pv1, se1 \u001b[39m=\u001b[39m stats\u001b[39m.\u001b[39;49mlinregress(df[\u001b[39m'\u001b[39;49m\u001b[39mSMF\u001b[39;49m\u001b[39m'\u001b[39;49m],df[\u001b[39m'\u001b[39;49m\u001b[39mCTR\u001b[39;49m\u001b[39m'\u001b[39;49m])\n\u001b[1;32m     <a href='vscode-notebook-cell:/Users/abasaltbahrami/Library/CloudStorage/Box-Box/VisualStudio/MF_Cell_Analysis/H2O2_30min_60min.ipynb#W3sZmlsZQ%3D%3D?line=15'>16</a>\u001b[0m slope2, intercept2, r_value2, pv2, se2 \u001b[39m=\u001b[39m stats\u001b[39m.\u001b[39mlinregress(df[\u001b[39m'\u001b[39m\u001b[39mneg. SMF\u001b[39m\u001b[39m'\u001b[39m],df[\u001b[39m'\u001b[39m\u001b[39mneg. CTR\u001b[39m\u001b[39m'\u001b[39m])\n\u001b[1;32m     <a href='vscode-notebook-cell:/Users/abasaltbahrami/Library/CloudStorage/Box-Box/VisualStudio/MF_Cell_Analysis/H2O2_30min_60min.ipynb#W3sZmlsZQ%3D%3D?line=17'>18</a>\u001b[0m fig, axes \u001b[39m=\u001b[39m plt\u001b[39m.\u001b[39msubplots(nrows\u001b[39m=\u001b[39m\u001b[39m1\u001b[39m, ncols\u001b[39m=\u001b[39m\u001b[39m2\u001b[39m, figsize\u001b[39m=\u001b[39m(\u001b[39m13\u001b[39m,\u001b[39m4\u001b[39m))\n",
      "File \u001b[0;32m~/opt/anaconda3/lib/python3.9/site-packages/scipy/stats/_stats_mstats_common.py:167\u001b[0m, in \u001b[0;36mlinregress\u001b[0;34m(x, y, alternative)\u001b[0m\n\u001b[1;32m    162\u001b[0m ymean \u001b[39m=\u001b[39m np\u001b[39m.\u001b[39mmean(y, \u001b[39mNone\u001b[39;00m)\n\u001b[1;32m    164\u001b[0m \u001b[39m# Average sums of square differences from the mean\u001b[39;00m\n\u001b[1;32m    165\u001b[0m \u001b[39m#   ssxm = mean( (x-mean(x))^2 )\u001b[39;00m\n\u001b[1;32m    166\u001b[0m \u001b[39m#   ssxym = mean( (x-mean(x)) * (y-mean(y)) )\u001b[39;00m\n\u001b[0;32m--> 167\u001b[0m ssxm, ssxym, _, ssym \u001b[39m=\u001b[39m np\u001b[39m.\u001b[39;49mcov(x, y, bias\u001b[39m=\u001b[39;49m\u001b[39m1\u001b[39;49m)\u001b[39m.\u001b[39mflat\n\u001b[1;32m    169\u001b[0m \u001b[39m# R-value\u001b[39;00m\n\u001b[1;32m    170\u001b[0m \u001b[39m#   r = ssxym / sqrt( ssxm * ssym )\u001b[39;00m\n\u001b[1;32m    171\u001b[0m \u001b[39mif\u001b[39;00m ssxm \u001b[39m==\u001b[39m \u001b[39m0.0\u001b[39m \u001b[39mor\u001b[39;00m ssym \u001b[39m==\u001b[39m \u001b[39m0.0\u001b[39m:\n\u001b[1;32m    172\u001b[0m     \u001b[39m# If the denominator was going to be 0\u001b[39;00m\n",
      "File \u001b[0;32m<__array_function__ internals>:180\u001b[0m, in \u001b[0;36mcov\u001b[0;34m(*args, **kwargs)\u001b[0m\n",
      "File \u001b[0;32m~/opt/anaconda3/lib/python3.9/site-packages/numpy/lib/function_base.py:2656\u001b[0m, in \u001b[0;36mcov\u001b[0;34m(m, y, rowvar, bias, ddof, fweights, aweights, dtype)\u001b[0m\n\u001b[1;32m   2653\u001b[0m     \u001b[39melse\u001b[39;00m:\n\u001b[1;32m   2654\u001b[0m         w \u001b[39m*\u001b[39m\u001b[39m=\u001b[39m aweights\n\u001b[0;32m-> 2656\u001b[0m avg, w_sum \u001b[39m=\u001b[39m average(X, axis\u001b[39m=\u001b[39;49m\u001b[39m1\u001b[39;49m, weights\u001b[39m=\u001b[39;49mw, returned\u001b[39m=\u001b[39;49m\u001b[39mTrue\u001b[39;49;00m)\n\u001b[1;32m   2657\u001b[0m w_sum \u001b[39m=\u001b[39m w_sum[\u001b[39m0\u001b[39m]\n\u001b[1;32m   2659\u001b[0m \u001b[39m# Determine the normalization\u001b[39;00m\n",
      "File \u001b[0;32m<__array_function__ internals>:180\u001b[0m, in \u001b[0;36maverage\u001b[0;34m(*args, **kwargs)\u001b[0m\n",
      "File \u001b[0;32m~/opt/anaconda3/lib/python3.9/site-packages/numpy/lib/function_base.py:530\u001b[0m, in \u001b[0;36maverage\u001b[0;34m(a, axis, weights, returned)\u001b[0m\n\u001b[1;32m    527\u001b[0m     avg \u001b[39m=\u001b[39m np\u001b[39m.\u001b[39mmultiply(a, wgt, dtype\u001b[39m=\u001b[39mresult_dtype)\u001b[39m.\u001b[39msum(axis)\u001b[39m/\u001b[39mscl\n\u001b[1;32m    529\u001b[0m \u001b[39mif\u001b[39;00m returned:\n\u001b[0;32m--> 530\u001b[0m     \u001b[39mif\u001b[39;00m scl\u001b[39m.\u001b[39;49mshape \u001b[39m!=\u001b[39m avg\u001b[39m.\u001b[39mshape:\n\u001b[1;32m    531\u001b[0m         scl \u001b[39m=\u001b[39m np\u001b[39m.\u001b[39mbroadcast_to(scl, avg\u001b[39m.\u001b[39mshape)\u001b[39m.\u001b[39mcopy()\n\u001b[1;32m    532\u001b[0m     \u001b[39mreturn\u001b[39;00m avg, scl\n",
      "\u001b[0;31mAttributeError\u001b[0m: 'float' object has no attribute 'shape'"
     ]
    }
   ],
   "source": [
    "# averaging data presented above for 30 min, and can be done for 60 min too\n",
    "\n",
    "\n",
    "i = 0\n",
    "df = pd.DataFrame(columns=cols, index=range(0))\n",
    "while i < 8:\n",
    "    mean = df30.iloc[[i, i+1]].mean(axis=0)\n",
    "    list = [mean[0], mean[1], mean[2], mean[3]]\n",
    "    df = df.append(pd.DataFrame([list], columns=cols), ignore_index=True)\n",
    "    i=i+2\n",
    "\n",
    "#print(\"30 min: CTR = \", a, \"x SMF + \", b)\n",
    "#print(\"30 min: neg. CTR = \", c, \"x SMF + \", d)\n",
    "\n",
    "slope1, intercept1, r_value1, pv1, se1 = stats.linregress(df['SMF'],df['CTR'])\n",
    "slope2, intercept2, r_value2, pv2, se2 = stats.linregress(df['neg. SMF'],df['neg. CTR'])\n",
    "\n",
    "fig, axes = plt.subplots(nrows=1, ncols=2, figsize=(13,4))\n",
    "sns.regplot(ax = axes[0], x=df['SMF'], y=df['CTR'], color=\"b\", ci=None,\n",
    "            label=\"CTR={0:.1f}x+{1:.1f}\".format(slope1, intercept1)).legend(loc=\"best\").set(title='SMF6mT 30 min')\n",
    "sns.regplot(ax = axes[1], x=df['neg. SMF'], y=df['neg. CTR'], color=\"b\", ci=None,\n",
    "            label=\"CTR={0:.1f}x+{1:.1f}\".format(slope2, intercept2)).legend(loc=\"best\").set(title='SMF6mT 30 min')\n"
   ]
  },
  {
   "cell_type": "code",
   "execution_count": null,
   "id": "010dc568",
   "metadata": {
    "scrolled": true
   },
   "outputs": [
    {
     "ename": "NameError",
     "evalue": "name 'df30' is not defined",
     "output_type": "error",
     "traceback": [
      "\u001b[0;31m---------------------------------------------------------------------------\u001b[0m",
      "\u001b[0;31mNameError\u001b[0m                                 Traceback (most recent call last)",
      "\u001b[1;32m/Users/abasaltbahrami/Library/CloudStorage/Box-Box/VisualStudio/MF_Cell_Analysis/H2O2_30min_60min.ipynb Cell 5\u001b[0m in \u001b[0;36m<cell line: 6>\u001b[0;34m()\u001b[0m\n\u001b[1;32m      <a href='vscode-notebook-cell:/Users/abasaltbahrami/Library/CloudStorage/Box-Box/VisualStudio/MF_Cell_Analysis/H2O2_30min_60min.ipynb#W4sZmlsZQ%3D%3D?line=3'>4</a>\u001b[0m CTR \u001b[39m=\u001b[39m []\n\u001b[1;32m      <a href='vscode-notebook-cell:/Users/abasaltbahrami/Library/CloudStorage/Box-Box/VisualStudio/MF_Cell_Analysis/H2O2_30min_60min.ipynb#W4sZmlsZQ%3D%3D?line=5'>6</a>\u001b[0m \u001b[39mfor\u001b[39;00m i \u001b[39min\u001b[39;00m \u001b[39mrange\u001b[39m(\u001b[39m0\u001b[39m, \u001b[39m278\u001b[39m, \u001b[39m9\u001b[39m):\n\u001b[0;32m----> <a href='vscode-notebook-cell:/Users/abasaltbahrami/Library/CloudStorage/Box-Box/VisualStudio/MF_Cell_Analysis/H2O2_30min_60min.ipynb#W4sZmlsZQ%3D%3D?line=6'>7</a>\u001b[0m     listB \u001b[39m=\u001b[39m df30[\u001b[39m'\u001b[39m\u001b[39mSMF\u001b[39m\u001b[39m'\u001b[39m]\u001b[39m.\u001b[39mtolist()[i]\n\u001b[1;32m      <a href='vscode-notebook-cell:/Users/abasaltbahrami/Library/CloudStorage/Box-Box/VisualStudio/MF_Cell_Analysis/H2O2_30min_60min.ipynb#W4sZmlsZQ%3D%3D?line=7'>8</a>\u001b[0m     SMF\u001b[39m.\u001b[39mappend(listB)\n\u001b[1;32m     <a href='vscode-notebook-cell:/Users/abasaltbahrami/Library/CloudStorage/Box-Box/VisualStudio/MF_Cell_Analysis/H2O2_30min_60min.ipynb#W4sZmlsZQ%3D%3D?line=10'>11</a>\u001b[0m \u001b[39mfor\u001b[39;00m i \u001b[39min\u001b[39;00m \u001b[39mrange\u001b[39m(\u001b[39m0\u001b[39m, \u001b[39m278\u001b[39m, \u001b[39m9\u001b[39m):\n",
      "\u001b[0;31mNameError\u001b[0m: name 'df30' is not defined"
     ]
    }
   ],
   "source": [
    "# time dependency\n",
    "\n",
    "SMF = []\n",
    "CTR = []\n",
    "\n",
    "for i in range(0, 278, 9):\n",
    "    listB = df30['SMF'].tolist()[i]\n",
    "    SMF.append(listB)\n",
    "\n",
    "\n",
    "for i in range(0, 278, 9):\n",
    "    listC = df30['CTR'].tolist()[i]\n",
    "    CTR.append(listC)\n",
    "\n",
    "time = (np.arange(0, 31)*20)/60\n",
    "data = {'SMF': SMF, 'CTR': CTR, 'time': time}\n",
    "df = pd.DataFrame(data)\n",
    "\n",
    "#writer = pd.ExcelWriter(r'd:\\usuarios\\lbv06\\Downloads\\testtest.xls', engine = 'xlsxwriter')\n",
    "#df.to_excel(writer, sheet_name = 'data')\n",
    "#writer.save()\n",
    "#writer.close()\n",
    "\n",
    "\n",
    "fig, axes = plt.subplots(nrows=1, ncols=1, figsize=(8, 4))\n",
    "sns.regplot(ax=axes, x=df['time'], y=df['SMF'], color=\"b\",\n",
    "            ci=None, label=\"SMF\").set(title='SMF 6mT min')\n",
    "sns.regplot(ax=axes, x=df['time'], y=df['CTR'],\n",
    "            color=\"r\", label=\"CTR\", ci=None)\n",
    "axes.legend()\n",
    "plt.show()\n",
    "\n",
    "i = 0\n",
    "while i < 2:\n",
    "    slope, intercept, r_value, pv, se = stats.linregress(\n",
    "        df['time'], df.iloc[:, i])\n",
    "    print(slope)\n",
    "    i = i+1\n"
   ]
  },
  {
   "cell_type": "code",
   "execution_count": null,
   "id": "52be0207",
   "metadata": {},
   "outputs": [],
   "source": []
  }
 ],
 "metadata": {
  "kernelspec": {
   "display_name": "Python 3 (ipykernel)",
   "language": "python",
   "name": "python3"
  },
  "language_info": {
   "codemirror_mode": {
    "name": "ipython",
    "version": 3
   },
   "file_extension": ".py",
   "mimetype": "text/x-python",
   "name": "python",
   "nbconvert_exporter": "python",
   "pygments_lexer": "ipython3",
   "version": "3.9.12"
  }
 },
 "nbformat": 4,
 "nbformat_minor": 5
}
