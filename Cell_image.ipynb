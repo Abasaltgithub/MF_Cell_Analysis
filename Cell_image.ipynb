{
 "cells": [
  {
   "cell_type": "code",
   "execution_count": 132,
   "id": "10d8b909",
   "metadata": {},
   "outputs": [
    {
     "name": "stdout",
     "output_type": "stream",
     "text": [
      "C:\\Users\\lbv06\n"
     ]
    }
   ],
   "source": [
    "from matplotlib import image\n",
    "import numpy as np\n",
    "import pandas as pd\n",
    "import matplotlib\n",
    "import matplotlib.pyplot as plt\n",
    "import seaborn as sns\n",
    "from scipy import stats\n",
    "import os\n",
    "import openpyxl\n",
    "import xlsxwriter\n",
    "import statsmodels.api as sm\n",
    "import cv2\n",
    "from skimage.feature import peak_local_max\n",
    "from skimage.morphology import watershed\n",
    "from PIL import Image, ImageFilter\n",
    "\n",
    "current_path = os.getcwd()\n",
    "print(current_path)"
   ]
  },
  {
   "cell_type": "code",
   "execution_count": 133,
   "id": "73e87b2f",
   "metadata": {},
   "outputs": [],
   "source": [
    "# B_10_real ... B_16_real\n",
    "image = cv2.imread(r\"d:\\usuarios\\lbv06\\Downloads\\Abasalt_Microscope_68hr\\Analysis\\B_15_real.jpg\")\n",
    "\n",
    "sens_x = 50\n",
    "sens_y = 60\n",
    "scale_percent = 50 # percent of original size\n",
    "width = int(image.shape[1] * scale_percent / 100)\n",
    "height = int(image.shape[0] * scale_percent / 100)\n",
    "dim = (width, height)"
   ]
  },
  {
   "cell_type": "code",
   "execution_count": 134,
   "id": "277fbd5e",
   "metadata": {},
   "outputs": [
    {
     "name": "stdout",
     "output_type": "stream",
     "text": [
      "\n",
      "Number of dots: 963\n"
     ]
    }
   ],
   "source": [
    "# https://stackoverflow.com/questions/58751101/count-number-of-cells-in-the-image\n",
    "# and have a look at here: https://www.geeksforgeeks.org/white-and-black-dot-detection-using-opencv-python/\n",
    "\n",
    "\n",
    "imgContours = image.copy()\n",
    "\n",
    "imgGray = cv2.cvtColor(image, cv2.COLOR_BGR2GRAY)\n",
    "imgGray = imgGray[:, :]\n",
    "\n",
    "imgBlur = cv2.GaussianBlur(imgGray, (5,5), 1)\n",
    "imgCanny = cv2.Canny(imgBlur, sens_x, sens_y)    # with these parameters I can change the sensitivity to dot size\n",
    "\n",
    "\n",
    "#thresh = cv2.threshold(imgGray, 100, 255, cv2.THRESH_BINARY)[1]\n",
    "thresh = cv2.threshold(imgGray, 100, 300, cv2.THRESH_BINARY_INV + cv2.THRESH_OTSU)[1]\n",
    "\n",
    "img_contours, _ = cv2.findContours(imgCanny, cv2.RETR_EXTERNAL, cv2.CHAIN_APPROX_SIMPLE)\n",
    "contDraw = cv2.drawContours(imgContours, img_contours, -1, (255, 0, 255), 1)\n",
    "cv2.putText(contDraw, \"Number of dots: {}\".format(len(img_contours)), (40, 40), cv2.FONT_HERSHEY_SIMPLEX, 1, (0, 255, 255), 1)\n",
    "\n",
    "print(\"\\nNumber of dots: {}\".format(len(img_contours)))\n",
    "\n",
    "\n",
    "thresh1 = cv2.resize(thresh, dim, interpolation=cv2.INTER_AREA)\n",
    "image1 = cv2.resize(image, dim, interpolation=cv2.INTER_AREA)\n",
    "contDraw1 = cv2.resize(contDraw, dim, interpolation=cv2.INTER_AREA)\n",
    "\n",
    "\n",
    "\n",
    "cv2.imshow(\"Theshold\", thresh1)\n",
    "Hori = np.concatenate((image1, contDraw1), axis=1) \n",
    "cv2.imshow(\"Original image vs. Contour image\", Hori)\n",
    "\n",
    "cv2.waitKey(0)\n",
    "cv2.destroyAllWindows()"
   ]
  },
  {
   "cell_type": "code",
   "execution_count": 136,
   "id": "5f3f3cb4",
   "metadata": {},
   "outputs": [
    {
     "name": "stdout",
     "output_type": "stream",
     "text": [
      "\n",
      "Number of dots: 963\n"
     ]
    }
   ],
   "source": [
    "# try 3\n",
    "\n",
    "\n",
    "# Deep copy for results:\n",
    "inputImageCopy = image.copy()\n",
    "\n",
    "# Convert RGB to grayscale:\n",
    "grayscaleImage = cv2.cvtColor(image, cv2.COLOR_BGR2GRAY)\n",
    "\n",
    "# Find the contours on the binary image:\n",
    "\n",
    "imgBlur = cv2.GaussianBlur(grayscaleImage, (5,5), 1)\n",
    "imgCanny = cv2.Canny(imgBlur, sens_x, sens_y)    # with these parameters I can change the sensitivity to dot size\n",
    "\n",
    "\n",
    "thresh = cv2.threshold(grayscaleImage, 100, 300, cv2.THRESH_BINARY_INV + cv2.THRESH_OTSU)[1]\n",
    "\n",
    "contours, hierarchy = cv2.findContours(imgCanny, cv2.RETR_EXTERNAL, cv2.CHAIN_APPROX_SIMPLE)\n",
    "#contDraw = cv2.drawContours(inputImageCopy, contours, -1, (255, 0, 255), 1)\n",
    "\n",
    "# Store bounding rectangles and object id here:\n",
    "objectData = []\n",
    "\n",
    "# ObjectCounter:\n",
    "objectCounter = 1\n",
    "\n",
    "# Look for the outer bounding boxes (no children):\n",
    "for _, c in enumerate(contours):\n",
    "    # Get the contour's bounding rectangle:\n",
    "    boundRect = cv2.boundingRect(c)\n",
    "\n",
    "    # Store in list:\n",
    "    objectData.append((objectCounter, boundRect))\n",
    "\n",
    "    # Get the dimensions of the bounding rect:\n",
    "    rectX = boundRect[0]\n",
    "    rectY = boundRect[1]\n",
    "    rectWidth = boundRect[2]\n",
    "    rectHeight = boundRect[3]\n",
    "\n",
    "    # Draw bounding rect:\n",
    "    color = (0, 0, 255)\n",
    "    cv2.rectangle(inputImageCopy, (int(rectX), int(rectY)),\n",
    "                  (int(rectX + rectWidth), int(rectY + rectHeight)), color, 2)\n",
    "\n",
    "    # Draw object counter:\n",
    "    font = cv2.FONT_HERSHEY_SIMPLEX\n",
    "    fontScale = 1\n",
    "    fontThickness = 1\n",
    "    color = (0, 0, 255)\n",
    "#    cv2.putText(inputImageCopy, str(objectCounter), (int(rectX), int(rectY)), font, fontScale, color, fontThickness)\n",
    "\n",
    "    # Increment object counter\n",
    "    objectCounter += 1\n",
    "\n",
    "objectCounter -= 1\n",
    "print(\"\\nNumber of dots: {}\".format(objectCounter))\n",
    "\n",
    "\n",
    "inputImageCopy1 = cv2.resize(inputImageCopy, dim, interpolation=cv2.INTER_AREA)\n",
    "cv2.imshow(\"Rectangles\", inputImageCopy1)\n",
    "\n",
    "\n",
    "cv2.waitKey(3000)\n",
    "cv2.destroyAllWindows()\n",
    "\n"
   ]
  },
  {
   "cell_type": "code",
   "execution_count": null,
   "id": "3ba2a061",
   "metadata": {},
   "outputs": [],
   "source": []
  }
 ],
 "metadata": {
  "kernelspec": {
   "display_name": "Python 3 (ipykernel)",
   "language": "python",
   "name": "python3"
  },
  "language_info": {
   "codemirror_mode": {
    "name": "ipython",
    "version": 3
   },
   "file_extension": ".py",
   "mimetype": "text/x-python",
   "name": "python",
   "nbconvert_exporter": "python",
   "pygments_lexer": "ipython3",
   "version": "3.9.7"
  }
 },
 "nbformat": 4,
 "nbformat_minor": 5
}
